{
  "cells": [
    {
      "cell_type": "code",
      "execution_count": 3,
      "metadata": {},
      "outputs": [
        {
          "name": "stdout",
          "output_type": "stream",
          "text": [
            "Enough light. Capturing video...\n",
            "Not enough light. Please increase light.\n",
            "Enough light. Capturing video...\n",
            "Not enough light. Please increase light.\n",
            "Enough light. Capturing video...\n",
            "Not enough light. Please increase light.\n",
            "Enough light. Capturing video...\n",
            "Not enough light. Please increase light.\n",
            "Enough light. Capturing video...\n",
            "Not enough light. Please increase light.\n",
            "Enough light. Capturing video...\n",
            "Not enough light. Please increase light.\n",
            "Enough light. Capturing video...\n"
          ]
        },
        {
          "ename": "KeyboardInterrupt",
          "evalue": "",
          "output_type": "error",
          "traceback": [
            "\u001b[1;31m---------------------------------------------------------------------------\u001b[0m",
            "\u001b[1;31mKeyboardInterrupt\u001b[0m                         Traceback (most recent call last)",
            "Cell \u001b[1;32mIn[3], line 54\u001b[0m\n\u001b[0;32m     52\u001b[0m cap \u001b[38;5;241m=\u001b[39m cv2\u001b[38;5;241m.\u001b[39mVideoCapture(\u001b[38;5;241m0\u001b[39m)\n\u001b[0;32m     53\u001b[0m save_path \u001b[38;5;241m=\u001b[39m \u001b[38;5;124m'\u001b[39m\u001b[38;5;124moutput.avi\u001b[39m\u001b[38;5;124m'\u001b[39m\n\u001b[1;32m---> 54\u001b[0m \u001b[43mcapture_video\u001b[49m\u001b[43m(\u001b[49m\u001b[43mcap\u001b[49m\u001b[43m,\u001b[49m\u001b[43m \u001b[49m\u001b[43msave_path\u001b[49m\u001b[43m)\u001b[49m\n",
            "Cell \u001b[1;32mIn[3], line 20\u001b[0m, in \u001b[0;36mcapture_video\u001b[1;34m(cap, save_path)\u001b[0m\n\u001b[0;32m     17\u001b[0m light_status \u001b[38;5;241m=\u001b[39m \u001b[38;5;28;01mNone\u001b[39;00m  \u001b[38;5;66;03m# To track the current light status\u001b[39;00m\n\u001b[0;32m     19\u001b[0m \u001b[38;5;28;01mwhile\u001b[39;00m \u001b[38;5;28;01mTrue\u001b[39;00m:\n\u001b[1;32m---> 20\u001b[0m     ret, frame \u001b[38;5;241m=\u001b[39m \u001b[43mcap\u001b[49m\u001b[38;5;241;43m.\u001b[39;49m\u001b[43mread\u001b[49m\u001b[43m(\u001b[49m\u001b[43m)\u001b[49m\n\u001b[0;32m     21\u001b[0m     \u001b[38;5;28;01mif\u001b[39;00m \u001b[38;5;129;01mnot\u001b[39;00m ret:\n\u001b[0;32m     22\u001b[0m         \u001b[38;5;28;01mbreak\u001b[39;00m\n",
            "\u001b[1;31mKeyboardInterrupt\u001b[0m: "
          ]
        }
      ],
      "source": [
        "import cv2\n",
        "import time\n",
        "\n",
        "def check_light(frame):\n",
        "    hsv = cv2.cvtColor(frame, cv2.COLOR_BGR2HSV)\n",
        "    avg_brightness = cv2.mean(hsv[:,:,2])[0]\n",
        "    if avg_brightness < 100:\n",
        "        return False\n",
        "    else:\n",
        "        return True\n",
        "\n",
        "def capture_video(cap, save_path):\n",
        "    start_time = time.time()\n",
        "    fourcc = cv2.VideoWriter_fourcc(*'XVID')\n",
        "    out = cv2.VideoWriter(save_path, fourcc, 20.0, (640, 480))\n",
        "\n",
        "    light_status = None  # To track the current light status\n",
        "    \n",
        "    while True:\n",
        "        ret, frame = cap.read()\n",
        "        if not ret:\n",
        "            break\n",
        "        \n",
        "        current_light_status = check_light(frame)\n",
        "        \n",
        "        if light_status is None:\n",
        "            light_status = current_light_status\n",
        "            if light_status:\n",
        "                print(\"Enough light. Capturing video...\")\n",
        "        elif light_status != current_light_status:\n",
        "            light_status = current_light_status\n",
        "            if light_status:\n",
        "                print(\"Enough light. Capturing video...\")\n",
        "            else:\n",
        "                print(\"Not enough light. Please increase light.\")\n",
        "                # Inform client to increase light\n",
        "                # For example:\n",
        "                # inform_client_to_increase_light()\n",
        "        \n",
        "        if light_status:\n",
        "            out.write(frame)\n",
        "            cv2.imshow('Video', frame)\n",
        "            if cv2.waitKey(1) & 0xFF == ord('q'):\n",
        "                break\n",
        "            if time.time() - start_time > 60:\n",
        "                break\n",
        "\n",
        "    out.release()\n",
        "    cv2.destroyAllWindows()\n",
        "\n",
        "if __name__ == '__main__':\n",
        "    cap = cv2.VideoCapture(0)\n",
        "    save_path = 'output.avi'\n",
        "    capture_video(cap, save_path)\n"
      ]
    },
    {
      "cell_type": "code",
      "execution_count": null,
      "metadata": {},
      "outputs": [],
      "source": []
    }
  ],
  "metadata": {
    "accelerator": "GPU",
    "colab": {
      "gpuType": "T4",
      "provenance": []
    },
    "kernelspec": {
      "display_name": "Python 3",
      "name": "python3"
    },
    "language_info": {
      "codemirror_mode": {
        "name": "ipython",
        "version": 3
      },
      "file_extension": ".py",
      "mimetype": "text/x-python",
      "name": "python",
      "nbconvert_exporter": "python",
      "pygments_lexer": "ipython3",
      "version": "3.12.3"
    }
  },
  "nbformat": 4,
  "nbformat_minor": 0
}
